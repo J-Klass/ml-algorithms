{
 "cells": [
  {
   "cell_type": "markdown",
   "metadata": {},
   "source": [
    "# Linear Classification <a class=\"tocSkip\">"
   ]
  },
  {
   "cell_type": "code",
   "execution_count": null,
   "metadata": {},
   "outputs": [],
   "source": [
    "# Import statements\n",
    "import matplotlib.pyplot as plt\n",
    "import numpy as np\n",
    "\n",
    "%matplotlib inline\n",
    "%load_ext nb_black"
   ]
  },
  {
   "cell_type": "markdown",
   "metadata": {},
   "source": [
    "# Example"
   ]
  },
  {
   "cell_type": "code",
   "execution_count": null,
   "metadata": {},
   "outputs": [],
   "source": [
    "# Data\n",
    "x1 = np.array((1, 1, 2, 2, 3, 3, 4))\n",
    "x2 = np.array((6, 8, 5, 9, 6, 10, 4))\n",
    "x = np.vstack((x1, x2)).T\n",
    "# Labels\n",
    "y = np.array((-1, -1, 1, -1, 1, 1, -1))"
   ]
  },
  {
   "cell_type": "code",
   "execution_count": null,
   "metadata": {},
   "outputs": [],
   "source": [
    "# Plot the data\n",
    "for val, inp in enumerate(x):\n",
    "    if y[val] == -1:\n",
    "        plt.scatter(inp[0], inp[1], s=100, marker=\"_\", linewidths=5, color=\"black\")\n",
    "    else:\n",
    "        plt.scatter(inp[0], inp[1], s=100, marker=\"+\", linewidths=5, color=\"red\")"
   ]
  },
  {
   "cell_type": "markdown",
   "metadata": {},
   "source": [
    "# Training Linear Classifier"
   ]
  },
  {
   "cell_type": "markdown",
   "metadata": {},
   "source": [
    "## Prediction Function"
   ]
  },
  {
   "cell_type": "markdown",
   "metadata": {},
   "source": [
    "$$\\hat{y} = sign(f(x,w))$$\n",
    "$$f(x,w) = x^Tw$$"
   ]
  },
  {
   "cell_type": "code",
   "execution_count": null,
   "metadata": {},
   "outputs": [],
   "source": [
    "def f(x, w):\n",
    "    return np.dot(w, x)"
   ]
  },
  {
   "cell_type": "code",
   "execution_count": null,
   "metadata": {},
   "outputs": [],
   "source": [
    "def y_pred(x, w):\n",
    "    return np.sign(f(x, w))"
   ]
  },
  {
   "cell_type": "markdown",
   "metadata": {},
   "source": [
    "## Hinge loss function"
   ]
  },
  {
   "cell_type": "markdown",
   "metadata": {},
   "source": [
    "data point $x_n$\n",
    "\n",
    "ground truth label $y_n$\n",
    "\n",
    "Hinge loss: \n",
    "\n",
    "$$L = |1-y_n \\cdot f(x_n,w)|_+ = max(0,1-y_n \\cdot f(x_n, w))$$"
   ]
  },
  {
   "cell_type": "code",
   "execution_count": null,
   "metadata": {},
   "outputs": [],
   "source": [
    "def hinge_loss(w, x, y):\n",
    "    # Evaluates hinge loss and its gradient at w\n",
    "    loss, grad = 0, 0\n",
    "    for (x_n, y_n) in zip(x, y):\n",
    "        loss += max(0, 1 - y_n * f(w, x_n))\n",
    "        grad += 0 if y_n * f(w, x_n) > 1 else -y_n * x_n\n",
    "    return (loss, grad)"
   ]
  },
  {
   "cell_type": "markdown",
   "metadata": {},
   "source": [
    "## Optimizing Loss using Gradient Descent"
   ]
  },
  {
   "cell_type": "code",
   "execution_count": null,
   "metadata": {},
   "outputs": [],
   "source": [
    "def grad_descent(x, y, w, step, thresh=0.0000001):\n",
    "    grad = np.inf\n",
    "    ws = np.zeros((2, 0))\n",
    "    ws = np.hstack((ws, w.reshape(2, 1)))\n",
    "    step_num = 1\n",
    "    delta = np.inf\n",
    "    loss_0 = np.inf\n",
    "    while np.abs(delta) > thresh:\n",
    "        loss, grad = hinge_loss(w, x, y)\n",
    "        delta = loss_0 - loss\n",
    "        loss_0 = loss\n",
    "        grad_dir = grad / np.linalg.norm(grad)\n",
    "        w = w - step * grad_dir / step_num\n",
    "        ws = np.hstack((ws, w.reshape((2, 1))))\n",
    "        step_num += 1\n",
    "    return np.sum(ws, 1) / np.size(ws, 1)"
   ]
  },
  {
   "cell_type": "markdown",
   "metadata": {},
   "source": [
    "## Plotting the Results"
   ]
  },
  {
   "cell_type": "code",
   "execution_count": null,
   "metadata": {},
   "outputs": [],
   "source": [
    "w = grad_descent(x, y, np.array((0, 0)), 0.1)\n",
    "print(w)\n",
    "x1 = [w[0], w[1], -w[1], w[0]]\n",
    "x2 = [w[0], w[1], w[1], -w[0]]\n",
    "\n",
    "# Plot the data\n",
    "for val, inp in enumerate(x):\n",
    "    if y[val] == -1:\n",
    "        plt.scatter(inp[0], inp[1], s=100, marker=\"_\", linewidths=5, color=\"black\")\n",
    "    else:\n",
    "        plt.scatter(inp[0], inp[1], s=100, marker=\"+\", linewidths=5, color=\"red\")\n",
    "\n",
    "x1x2 = np.array([x1, x2])\n",
    "X, Y, U, V = zip(*x1x2)\n",
    "ax = plt.gca()\n",
    "ax.quiver(X, Y, U, V, scale=0.0001, color=\"blue\")\n",
    "\n",
    "print(\"Total Loss:\", hinge_loss(w, x, y)[0])"
   ]
  }
 ],
 "metadata": {
  "kernelspec": {
   "display_name": "Python 3",
   "language": "python",
   "name": "python3"
  },
  "language_info": {
   "codemirror_mode": {
    "name": "ipython",
    "version": 3
   },
   "file_extension": ".py",
   "mimetype": "text/x-python",
   "name": "python",
   "nbconvert_exporter": "python",
   "pygments_lexer": "ipython3",
   "version": "3.7.3"
  },
  "toc": {
   "base_numbering": 1,
   "nav_menu": {},
   "number_sections": true,
   "sideBar": true,
   "skip_h1_title": false,
   "title_cell": "Table of Contents",
   "title_sidebar": "Contents",
   "toc_cell": false,
   "toc_position": {},
   "toc_section_display": true,
   "toc_window_display": false
  }
 },
 "nbformat": 4,
 "nbformat_minor": 2
}
